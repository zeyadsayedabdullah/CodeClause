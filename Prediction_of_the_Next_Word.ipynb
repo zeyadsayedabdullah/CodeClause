{
 "cells": [
  {
   "cell_type": "markdown",
   "metadata": {},
   "source": [
    "# Prepare data"
   ]
  },
  {
   "cell_type": "markdown",
   "metadata": {},
   "source": [
    "## Import data"
   ]
  },
  {
   "cell_type": "code",
   "execution_count": 1,
   "metadata": {
    "tags": []
   },
   "outputs": [],
   "source": [
    "import pandas as pd\n",
    "import numpy as np\n",
    "import heapq\n",
    "import matplotlib.pyplot as plt\n",
    "from nltk.tokenize import RegexpTokenizer\n",
    "from nltk.tokenize import word_tokenize\n",
    "from keras.models import Sequential, load_model\n",
    "from keras.layers.core import Dense, Activation\n",
    "from keras.layers import LSTM\n",
    "import json\n",
    "from tensorflow.keras.optimizers import RMSprop"
   ]
  },
  {
   "cell_type": "markdown",
   "metadata": {},
   "source": [
    "## Read json file"
   ]
  },
  {
   "cell_type": "code",
   "execution_count": 2,
   "metadata": {},
   "outputs": [
    {
     "name": "stdout",
     "output_type": "stream",
     "text": [
      "['phone call' 'meeting' 'face-to-face conversation' 'general chatting'\n",
      " 'presentation' 'training']\n"
     ]
    }
   ],
   "source": [
    "# Load the JSON file into a dictionary\n",
    "with open('train.json', 'r') as f:\n",
    "    data = json.load(f)\n",
    "\n",
    "# Convert the dictionary to a pandas DataFrame\n",
    "df = pd.DataFrame.from_dict(data)\n",
    "\n",
    "# Print the unique values in the 'tag' column\n",
    "print(df['tag'].unique())"
   ]
  },
  {
   "cell_type": "code",
   "execution_count": 3,
   "metadata": {},
   "outputs": [
    {
     "data": {
      "text/html": [
       "<div>\n",
       "<style scoped>\n",
       "    .dataframe tbody tr th:only-of-type {\n",
       "        vertical-align: middle;\n",
       "    }\n",
       "\n",
       "    .dataframe tbody tr th {\n",
       "        vertical-align: top;\n",
       "    }\n",
       "\n",
       "    .dataframe thead th {\n",
       "        text-align: right;\n",
       "    }\n",
       "</style>\n",
       "<table border=\"1\" class=\"dataframe\">\n",
       "  <thead>\n",
       "    <tr style=\"text-align: right;\">\n",
       "      <th></th>\n",
       "      <th>id</th>\n",
       "      <th>tag</th>\n",
       "      <th>title</th>\n",
       "      <th>original_language</th>\n",
       "      <th>conversation</th>\n",
       "    </tr>\n",
       "  </thead>\n",
       "  <tbody>\n",
       "    <tr>\n",
       "      <th>0</th>\n",
       "      <td>190329_J07_03</td>\n",
       "      <td>phone call</td>\n",
       "      <td>ن¼‌è¨€مپ¸مپ®وٹکم‚ٹè؟”مپ—é›»è©±و‰“مپ،هگˆم‚ڈمپ›و...</td>\n",
       "      <td>ja</td>\n",
       "      <td>[{'no': 1, 'ja_speaker': 'هœںن؛•مپ•م‚“', 'en_s...</td>\n",
       "    </tr>\n",
       "    <tr>\n",
       "      <th>1</th>\n",
       "      <td>190329_J06_11</td>\n",
       "      <td>meeting</td>\n",
       "      <td>و ھن¸»ç·ڈن¼ڑمپ«é–¢مپ™م‚‹ه½¹ه“،هگ‘مپ‘èھ¬وکژï¼ˆï...</td>\n",
       "      <td>ja</td>\n",
       "      <td>[{'no': 1, 'ja_speaker': 'é«کç”°مپ•م‚“', 'en_s...</td>\n",
       "    </tr>\n",
       "    <tr>\n",
       "      <th>2</th>\n",
       "      <td>190329_J06_10</td>\n",
       "      <td>meeting</td>\n",
       "      <td>و ھن¸»ç·ڈن¼ڑمپ«é–¢مپ™م‚‹ه½¹ه“،هگ‘مپ‘èھ¬وکژï¼ˆï...</td>\n",
       "      <td>ja</td>\n",
       "      <td>[{'no': 1, 'ja_speaker': 'هڈ‹ن؛•مپ•م‚“', 'en_s...</td>\n",
       "    </tr>\n",
       "    <tr>\n",
       "      <th>3</th>\n",
       "      <td>190329_J06_09</td>\n",
       "      <td>face-to-face conversation</td>\n",
       "      <td>ن؟،è¨—éٹ€è،Œمپ‹م‚‰و ھن¸»هگچç°؟م‚’هڈ—é ک</td>\n",
       "      <td>ja</td>\n",
       "      <td>[{'no': 1, 'ja_speaker': 'é«کç”°مپ•م‚“', 'en_s...</td>\n",
       "    </tr>\n",
       "    <tr>\n",
       "      <th>4</th>\n",
       "      <td>190329_J06_08</td>\n",
       "      <td>face-to-face conversation</td>\n",
       "      <td>و ھن¸»ç·ڈن¼ڑمپ¸مپ®è‡¨ه ´è¦پè«‹</td>\n",
       "      <td>ja</td>\n",
       "      <td>[{'no': 1, 'ja_speaker': 'é«کç”°مپ•م‚“', 'en_s...</td>\n",
       "    </tr>\n",
       "    <tr>\n",
       "      <th>...</th>\n",
       "      <td>...</td>\n",
       "      <td>...</td>\n",
       "      <td>...</td>\n",
       "      <td>...</td>\n",
       "      <td>...</td>\n",
       "    </tr>\n",
       "    <tr>\n",
       "      <th>665</th>\n",
       "      <td>190315_E001_05</td>\n",
       "      <td>presentation</td>\n",
       "      <td>Presentation: Company introduction</td>\n",
       "      <td>en</td>\n",
       "      <td>[{'no': 1, 'en_speaker': 'Mr. Asano Yuki', 'ja...</td>\n",
       "    </tr>\n",
       "    <tr>\n",
       "      <th>666</th>\n",
       "      <td>190315_E001_04</td>\n",
       "      <td>training</td>\n",
       "      <td>Training: training a new employee</td>\n",
       "      <td>en</td>\n",
       "      <td>[{'no': 1, 'en_speaker': 'Mr. Ben Sherman', 'j...</td>\n",
       "    </tr>\n",
       "    <tr>\n",
       "      <th>667</th>\n",
       "      <td>190315_E001_03</td>\n",
       "      <td>general chatting</td>\n",
       "      <td>General chatting: Company Christmas party</td>\n",
       "      <td>en</td>\n",
       "      <td>[{'no': 1, 'en_speaker': 'Ms. Amy Lin', 'ja_sp...</td>\n",
       "    </tr>\n",
       "    <tr>\n",
       "      <th>668</th>\n",
       "      <td>190315_E001_02</td>\n",
       "      <td>phone call</td>\n",
       "      <td>Phone call: requesting a lunch meeting.</td>\n",
       "      <td>en</td>\n",
       "      <td>[{'no': 1, 'en_speaker': 'Mr. John Smith', 'ja...</td>\n",
       "    </tr>\n",
       "    <tr>\n",
       "      <th>669</th>\n",
       "      <td>190315_E001_01</td>\n",
       "      <td>meeting</td>\n",
       "      <td>Meeting: Wrap-up meeting (after meeting a star...</td>\n",
       "      <td>en</td>\n",
       "      <td>[{'no': 1, 'en_speaker': 'Mr. Bob Cook', 'ja_s...</td>\n",
       "    </tr>\n",
       "  </tbody>\n",
       "</table>\n",
       "<p>670 rows × 5 columns</p>\n",
       "</div>"
      ],
      "text/plain": [
       "                 id                        tag  \\\n",
       "0     190329_J07_03                 phone call   \n",
       "1     190329_J06_11                    meeting   \n",
       "2     190329_J06_10                    meeting   \n",
       "3     190329_J06_09  face-to-face conversation   \n",
       "4     190329_J06_08  face-to-face conversation   \n",
       "..              ...                        ...   \n",
       "665  190315_E001_05               presentation   \n",
       "666  190315_E001_04                   training   \n",
       "667  190315_E001_03           general chatting   \n",
       "668  190315_E001_02                 phone call   \n",
       "669  190315_E001_01                    meeting   \n",
       "\n",
       "                                                 title original_language  \\\n",
       "0    ن¼‌è¨€مپ¸مپ®وٹکم‚ٹè؟”مپ—é›»è©±و‰“مپ،هگˆم‚ڈمپ›و...                ja   \n",
       "1    و ھن¸»ç·ڈن¼ڑمپ«é–¢مپ™م‚‹ه½¹ه“،هگ‘مپ‘èھ¬وکژï¼ˆï...                ja   \n",
       "2    و ھن¸»ç·ڈن¼ڑمپ«é–¢مپ™م‚‹ه½¹ه“،هگ‘مپ‘èھ¬وکژï¼ˆï...                ja   \n",
       "3              ن؟،è¨—éٹ€è،Œمپ‹م‚‰و ھن¸»هگچç°؟م‚’هڈ—é ک                ja   \n",
       "4                       و ھن¸»ç·ڈن¼ڑمپ¸مپ®è‡¨ه ´è¦پè«‹                ja   \n",
       "..                                                 ...               ...   \n",
       "665                 Presentation: Company introduction                en   \n",
       "666                  Training: training a new employee                en   \n",
       "667          General chatting: Company Christmas party                en   \n",
       "668            Phone call: requesting a lunch meeting.                en   \n",
       "669  Meeting: Wrap-up meeting (after meeting a star...                en   \n",
       "\n",
       "                                          conversation  \n",
       "0    [{'no': 1, 'ja_speaker': 'هœںن؛•مپ•م‚“', 'en_s...  \n",
       "1    [{'no': 1, 'ja_speaker': 'é«کç”°مپ•م‚“', 'en_s...  \n",
       "2    [{'no': 1, 'ja_speaker': 'هڈ‹ن؛•مپ•م‚“', 'en_s...  \n",
       "3    [{'no': 1, 'ja_speaker': 'é«کç”°مپ•م‚“', 'en_s...  \n",
       "4    [{'no': 1, 'ja_speaker': 'é«کç”°مپ•م‚“', 'en_s...  \n",
       "..                                                 ...  \n",
       "665  [{'no': 1, 'en_speaker': 'Mr. Asano Yuki', 'ja...  \n",
       "666  [{'no': 1, 'en_speaker': 'Mr. Ben Sherman', 'j...  \n",
       "667  [{'no': 1, 'en_speaker': 'Ms. Amy Lin', 'ja_sp...  \n",
       "668  [{'no': 1, 'en_speaker': 'Mr. John Smith', 'ja...  \n",
       "669  [{'no': 1, 'en_speaker': 'Mr. Bob Cook', 'ja_s...  \n",
       "\n",
       "[670 rows x 5 columns]"
      ]
     },
     "execution_count": 3,
     "metadata": {},
     "output_type": "execute_result"
    }
   ],
   "source": [
    "df"
   ]
  },
  {
   "cell_type": "markdown",
   "metadata": {},
   "source": [
    "## Concatenates ‘conversation’ column  And normalizes It"
   ]
  },
  {
   "cell_type": "code",
   "execution_count": 4,
   "metadata": {},
   "outputs": [],
   "source": [
    "df_convs = pd.concat([pd.json_normalize(df['conversation'][i]) for i in range(len(df))],ignore_index=True)\n",
    "train_en = df_convs[\"en_sentence\"].values.tolist()\n",
    "train_ja = df_convs[\"ja_sentence\"].values.tolist()"
   ]
  },
  {
   "cell_type": "code",
   "execution_count": 5,
   "metadata": {},
   "outputs": [
    {
     "data": {
      "text/html": [
       "<div>\n",
       "<style scoped>\n",
       "    .dataframe tbody tr th:only-of-type {\n",
       "        vertical-align: middle;\n",
       "    }\n",
       "\n",
       "    .dataframe tbody tr th {\n",
       "        vertical-align: top;\n",
       "    }\n",
       "\n",
       "    .dataframe thead th {\n",
       "        text-align: right;\n",
       "    }\n",
       "</style>\n",
       "<table border=\"1\" class=\"dataframe\">\n",
       "  <thead>\n",
       "    <tr style=\"text-align: right;\">\n",
       "      <th></th>\n",
       "      <th>no</th>\n",
       "      <th>ja_speaker</th>\n",
       "      <th>en_speaker</th>\n",
       "      <th>ja_sentence</th>\n",
       "      <th>en_sentence</th>\n",
       "    </tr>\n",
       "  </thead>\n",
       "  <tbody>\n",
       "    <tr>\n",
       "      <th>0</th>\n",
       "      <td>1</td>\n",
       "      <td>هœںن؛•مپ•م‚“</td>\n",
       "      <td>Doi-san</td>\n",
       "      <td>مپ¯مپ„م€پKç¤¾م‚·م‚¹مƒ†مƒ é–‹ç™؛éƒ¨مپ§مپ™م€‚</td>\n",
       "      <td>Hi this is the systems development department ...</td>\n",
       "    </tr>\n",
       "    <tr>\n",
       "      <th>1</th>\n",
       "      <td>2</td>\n",
       "      <td>é«که¸‚مپ•م‚“</td>\n",
       "      <td>Takaichi-san</td>\n",
       "      <td>Hç¤¾مپ®é«که¸‚مپ¨ç”³مپ—مپ¾مپ™م€‚</td>\n",
       "      <td>My name is Takaichi from Company H.</td>\n",
       "    </tr>\n",
       "    <tr>\n",
       "      <th>2</th>\n",
       "      <td>3</td>\n",
       "      <td>é«که¸‚مپ•م‚“</td>\n",
       "      <td>Takaichi-san</td>\n",
       "      <td>مپ„مپ¤م‚‚مپٹن¸–è©±مپ«مپھمپ£مپ¦مپٹم‚ٹمپ¾مپ™م€‚</td>\n",
       "      <td>Thank you as always.</td>\n",
       "    </tr>\n",
       "    <tr>\n",
       "      <th>3</th>\n",
       "      <td>4</td>\n",
       "      <td>هœںن؛•مپ•م‚“</td>\n",
       "      <td>Doi-san</td>\n",
       "      <td>مپ“مپ،م‚‰مپ“مپ‌م€پمپٹن¸–è©±مپ«مپھمپ£مپ¦مپٹم‚ٹم...</td>\n",
       "      <td>Thank you as always as well.</td>\n",
       "    </tr>\n",
       "    <tr>\n",
       "      <th>4</th>\n",
       "      <td>5</td>\n",
       "      <td>é«که¸‚مپ•م‚“</td>\n",
       "      <td>Takaichi-san</td>\n",
       "      <td>ç¨²ç”°مپ•م‚“مپ¯مپ„م‚‰مپ£مپ—م‚ƒمپ„مپ¾مپ™مپ‹ï¼ں</td>\n",
       "      <td>Is Inada-san there?</td>\n",
       "    </tr>\n",
       "    <tr>\n",
       "      <th>...</th>\n",
       "      <td>...</td>\n",
       "      <td>...</td>\n",
       "      <td>...</td>\n",
       "      <td>...</td>\n",
       "      <td>...</td>\n",
       "    </tr>\n",
       "    <tr>\n",
       "      <th>19995</th>\n",
       "      <td>28</td>\n",
       "      <td>مƒœمƒ– م‚¯مƒƒم‚¯مپ•م‚“</td>\n",
       "      <td>Mr. Bob Cook</td>\n",
       "      <td>ن»ٹو—¥مپ®5و™‚مپ¾مپ§مپ«و›¸مپچن¸ٹمپ’مپ¾مپ™م€‚</td>\n",
       "      <td>I'll finish it by 5 o'clock today.</td>\n",
       "    </tr>\n",
       "    <tr>\n",
       "      <th>19996</th>\n",
       "      <td>29</td>\n",
       "      <td>م‚¢مƒ« م‚¸مƒ§مƒ³م‚½مƒ³مپ•م‚“</td>\n",
       "      <td>Mr. Al Johnson</td>\n",
       "      <td>ه®Œç’§مپ مپ­م€‚</td>\n",
       "      <td>Perfect.</td>\n",
       "    </tr>\n",
       "    <tr>\n",
       "      <th>19997</th>\n",
       "      <td>30</td>\n",
       "      <td>م‚¢مƒ« م‚¸مƒ§مƒ³م‚½مƒ³مپ•م‚“</td>\n",
       "      <td>Mr. Al Johnson</td>\n",
       "      <td>وکژو—¥م‚¼مƒچمƒ©مƒ«مƒ‍مƒچمƒ¼م‚¸مƒ£مƒ¼مپ«Aç¤¾مپ®...</td>\n",
       "      <td>I'll go talk to the general manager tomorrow t...</td>\n",
       "    </tr>\n",
       "    <tr>\n",
       "      <th>19998</th>\n",
       "      <td>31</td>\n",
       "      <td>م‚¢مƒ« م‚¸مƒ§مƒ³م‚½مƒ³مپ•م‚“</td>\n",
       "      <td>Mr. Al Johnson</td>\n",
       "      <td>ه½¼مپŒAç¤¾م‚’و°—مپ«ه…¥مپ£مپ¦مپڈم‚Œمپ¦م€پوٹ•è³‡...</td>\n",
       "      <td>Hopefully he will like Company A and make the ...</td>\n",
       "    </tr>\n",
       "    <tr>\n",
       "      <th>19999</th>\n",
       "      <td>32</td>\n",
       "      <td>مƒœمƒ– م‚¯مƒƒم‚¯مپ•م‚“</td>\n",
       "      <td>Mr. Bob Cook</td>\n",
       "      <td>مپ‌مپ†مپ§مپ™مپ­م€‚</td>\n",
       "      <td>I hope so too.</td>\n",
       "    </tr>\n",
       "  </tbody>\n",
       "</table>\n",
       "<p>20000 rows × 5 columns</p>\n",
       "</div>"
      ],
      "text/plain": [
       "       no                    ja_speaker      en_speaker  \\\n",
       "0       1                  هœںن؛•مپ•م‚“         Doi-san   \n",
       "1       2                  é«که¸‚مپ•م‚“    Takaichi-san   \n",
       "2       3                  é«که¸‚مپ•م‚“    Takaichi-san   \n",
       "3       4                  هœںن؛•مپ•م‚“         Doi-san   \n",
       "4       5                  é«که¸‚مپ•م‚“    Takaichi-san   \n",
       "...    ..                           ...             ...   \n",
       "19995  28        مƒœمƒ– م‚¯مƒƒم‚¯مپ•م‚“    Mr. Bob Cook   \n",
       "19996  29  م‚¢مƒ« م‚¸مƒ§مƒ³م‚½مƒ³مپ•م‚“  Mr. Al Johnson   \n",
       "19997  30  م‚¢مƒ« م‚¸مƒ§مƒ³م‚½مƒ³مپ•م‚“  Mr. Al Johnson   \n",
       "19998  31  م‚¢مƒ« م‚¸مƒ§مƒ³م‚½مƒ³مپ•م‚“  Mr. Al Johnson   \n",
       "19999  32        مƒœمƒ– م‚¯مƒƒم‚¯مپ•م‚“    Mr. Bob Cook   \n",
       "\n",
       "                                             ja_sentence  \\\n",
       "0            مپ¯مپ„م€پKç¤¾م‚·م‚¹مƒ†مƒ é–‹ç™؛éƒ¨مپ§مپ™م€‚   \n",
       "1                        Hç¤¾مپ®é«که¸‚مپ¨ç”³مپ—مپ¾مپ™م€‚   \n",
       "2          مپ„مپ¤م‚‚مپٹن¸–è©±مپ«مپھمپ£مپ¦مپٹم‚ٹمپ¾مپ™م€‚   \n",
       "3      مپ“مپ،م‚‰مپ“مپ‌م€پمپٹن¸–è©±مپ«مپھمپ£مپ¦مپٹم‚ٹم...   \n",
       "4          ç¨²ç”°مپ•م‚“مپ¯مپ„م‚‰مپ£مپ—م‚ƒمپ„مپ¾مپ™مپ‹ï¼ں   \n",
       "...                                                  ...   \n",
       "19995        ن»ٹو—¥مپ®5و™‚مپ¾مپ§مپ«و›¸مپچن¸ٹمپ’مپ¾مپ™م€‚   \n",
       "19996                                    ه®Œç’§مپ مپ­م€‚   \n",
       "19997  وکژو—¥م‚¼مƒچمƒ©مƒ«مƒ‍مƒچمƒ¼م‚¸مƒ£مƒ¼مپ«Aç¤¾مپ®...   \n",
       "19998  ه½¼مپŒAç¤¾م‚’و°—مپ«ه…¥مپ£مپ¦مپڈم‚Œمپ¦م€پوٹ•è³‡...   \n",
       "19999                                 مپ‌مپ†مپ§مپ™مپ­م€‚   \n",
       "\n",
       "                                             en_sentence  \n",
       "0      Hi this is the systems development department ...  \n",
       "1                    My name is Takaichi from Company H.  \n",
       "2                                   Thank you as always.  \n",
       "3                           Thank you as always as well.  \n",
       "4                                    Is Inada-san there?  \n",
       "...                                                  ...  \n",
       "19995                 I'll finish it by 5 o'clock today.  \n",
       "19996                                           Perfect.  \n",
       "19997  I'll go talk to the general manager tomorrow t...  \n",
       "19998  Hopefully he will like Company A and make the ...  \n",
       "19999                                     I hope so too.  \n",
       "\n",
       "[20000 rows x 5 columns]"
      ]
     },
     "execution_count": 5,
     "metadata": {},
     "output_type": "execute_result"
    }
   ],
   "source": [
    "df_convs"
   ]
  },
  {
   "cell_type": "code",
   "execution_count": 6,
   "metadata": {},
   "outputs": [
    {
     "data": {
      "text/plain": [
       "['Hi this is the systems development department of Company K.',\n",
       " 'My name is Takaichi from Company H.',\n",
       " 'Thank you as always.',\n",
       " 'Thank you as always as well.',\n",
       " 'Is Inada-san there?',\n",
       " 'It seems I got a call from him around 1 hour ago.',\n",
       " 'Yes, let me switch you over.',\n",
       " 'Please wait a moment.',\n",
       " 'Inada-san, you have a call from Mr. Takaichi of Company H.',\n",
       " 'Hello, this is Inada.']"
      ]
     },
     "execution_count": 6,
     "metadata": {},
     "output_type": "execute_result"
    }
   ],
   "source": [
    "train_en[:10]"
   ]
  },
  {
   "cell_type": "markdown",
   "metadata": {},
   "source": [
    "## Concat all english messages"
   ]
  },
  {
   "cell_type": "code",
   "execution_count": 7,
   "metadata": {},
   "outputs": [
    {
     "name": "stdout",
     "output_type": "stream",
     "text": [
      "length of the corpus is: : 533319\n"
     ]
    }
   ],
   "source": [
    "text = ' '.join(train_en[0:10000])\n",
    "print('length of the corpus is: :', len(text))"
   ]
  },
  {
   "cell_type": "markdown",
   "metadata": {},
   "source": [
    "## Tokenize"
   ]
  },
  {
   "cell_type": "code",
   "execution_count": 8,
   "metadata": {},
   "outputs": [],
   "source": [
    "tokenizer = RegexpTokenizer(r'\\w+')\n",
    "words = tokenizer.tokenize(text)"
   ]
  },
  {
   "cell_type": "code",
   "execution_count": 9,
   "metadata": {},
   "outputs": [],
   "source": [
    "# get unique words\n",
    "unique_words = np.unique(words)\n",
    "unique_word_index = dict((c, i) for i, c in enumerate(unique_words))"
   ]
  },
  {
   "cell_type": "code",
   "execution_count": 10,
   "metadata": {},
   "outputs": [
    {
     "data": {
      "text/plain": [
       "array(['Seriously', 'Service', 'Seven', 'Shall', 'Shanghai', 'She',\n",
       "       'Shibata', 'Shibuya', 'Shiota', 'Shiraishi', 'Shiroki', 'Shirota',\n",
       "       'Shizuo', 'Shodoshima', 'Shop', 'Should', 'Shouldn', 'Shuji',\n",
       "       'Silence', 'Silicone'], dtype='<U16')"
      ]
     },
     "execution_count": 10,
     "metadata": {},
     "output_type": "execute_result"
    }
   ],
   "source": [
    "unique_words[1000:1020]"
   ]
  },
  {
   "cell_type": "markdown",
   "metadata": {},
   "source": [
    "## ModelBuilding"
   ]
  },
  {
   "cell_type": "code",
   "execution_count": 11,
   "metadata": {
    "tags": []
   },
   "outputs": [
    {
     "name": "stdout",
     "output_type": "stream",
     "text": [
      "['Hi', 'this', 'is', 'the', 'systems']\n",
      "development\n"
     ]
    }
   ],
   "source": [
    "# model input = prev_words\n",
    "# model output = next_words\n",
    "\n",
    "WORD_LENGTH = 5\n",
    "next_words = []\n",
    "prev_words = []\n",
    "for j in range(len(words) - WORD_LENGTH):\n",
    "    prev_words.append(words[j:j + WORD_LENGTH])\n",
    "    next_words.append(words[j + WORD_LENGTH])\n",
    "print(prev_words[0])\n",
    "print(next_words[0])"
   ]
  },
  {
   "cell_type": "code",
   "execution_count": 12,
   "metadata": {
    "tags": []
   },
   "outputs": [],
   "source": [
    "# convert features into numpy arrays\n",
    "X = np.zeros((len(prev_words), WORD_LENGTH, len(unique_words)), dtype=bool)\n",
    "Y = np.zeros((len(next_words), len(unique_words)), dtype=bool)\n",
    "# prepare word2id index\n",
    "for i, each_words in enumerate(prev_words):\n",
    "    for j, each_word in enumerate(each_words):\n",
    "        X[i, j, unique_word_index[each_word]] = 1\n",
    "    Y[i, unique_word_index[next_words[i]]] = 1\n",
    "word2id = unique_word_index"
   ]
  },
  {
   "cell_type": "code",
   "execution_count": 13,
   "metadata": {},
   "outputs": [],
   "source": [
    "# prepare id2word index ==> for inference\n",
    "id2word = {y:x for x,y in unique_word_index.items()}"
   ]
  },
  {
   "cell_type": "markdown",
   "metadata": {},
   "source": [
    "## Train"
   ]
  },
  {
   "cell_type": "code",
   "execution_count": 14,
   "metadata": {},
   "outputs": [],
   "source": [
    "# build model\n",
    "model = Sequential()\n",
    "model.add(LSTM(128, input_shape=(WORD_LENGTH, len(unique_words))))\n",
    "model.add(Dense(len(unique_words)))\n",
    "model.add(Activation('softmax'))"
   ]
  },
  {
   "cell_type": "code",
   "execution_count": 15,
   "metadata": {},
   "outputs": [
    {
     "name": "stdout",
     "output_type": "stream",
     "text": [
      "Epoch 1/2\n",
      "769/769 [==============================] - 113s 144ms/step - loss: 6.2286 - accuracy: 0.0767 - val_loss: 5.7895 - val_accuracy: 0.1314\n",
      "Epoch 2/2\n",
      "769/769 [==============================] - 110s 143ms/step - loss: 5.4774 - accuracy: 0.1455 - val_loss: 5.5055 - val_accuracy: 0.1491\n"
     ]
    }
   ],
   "source": [
    "optimizer = RMSprop(learning_rate=0.01)\n",
    "model.compile(loss='categorical_crossentropy', optimizer=optimizer, metrics=['accuracy'])\n",
    "history = model.fit(X, Y, validation_split=0.05, batch_size=128, epochs=2, shuffle=True).history"
   ]
  },
  {
   "cell_type": "markdown",
   "metadata": {},
   "source": [
    "## Evaluate"
   ]
  },
  {
   "cell_type": "code",
   "execution_count": 16,
   "metadata": {},
   "outputs": [
    {
     "data": {
      "image/png": "[encoded data removed]",
      "text/plain": [
       "<Figure size 640x480 with 1 Axes>"
      ]
     },
     "metadata": {},
     "output_type": "display_data"
    }
   ],
   "source": [
    "plt.plot(history['accuracy'])\n",
    "plt.plot(history['val_accuracy'])\n",
    "plt.title('model accuracy')\n",
    "plt.ylabel('accuracy')\n",
    "plt.xlabel('epoch')\n",
    "plt.legend(['train', 'test'], loc='upper left');"
   ]
  },
  {
   "cell_type": "code",
   "execution_count": 17,
   "metadata": {},
   "outputs": [
    {
     "data": {
      "image/png": "[encoded data removed]",
      "text/plain": [
       "<Figure size 640x480 with 1 Axes>"
      ]
     },
     "metadata": {},
     "output_type": "display_data"
    }
   ],
   "source": [
    "plt.plot(history['loss'])\n",
    "plt.plot(history['val_loss'])\n",
    "plt.title('model loss')\n",
    "plt.ylabel('loss')\n",
    "plt.xlabel('epoch')\n",
    "plt.legend(['train', 'test'], loc='upper left');"
   ]
  },
  {
   "cell_type": "markdown",
   "metadata": {},
   "source": [
    "# Communicate "
   ]
  },
  {
   "cell_type": "code",
   "execution_count": 18,
   "metadata": {},
   "outputs": [],
   "source": [
    "\n",
    "def prepare_input(text):\n",
    "    words = tokenizer.tokenize(text)\n",
    "    x = np.zeros((1, WORD_LENGTH, len(unique_words)))\n",
    "    for t, word in enumerate(words):\n",
    "        x[0, t, word2id[word]] = 1.\n",
    "        \n",
    "    return x"
   ]
  },
  {
   "cell_type": "code",
   "execution_count": 19,
   "metadata": {},
   "outputs": [],
   "source": [
    "def sample(preds, top_n=3):\n",
    "    preds = np.asarray(preds).astype('float64')\n",
    "    preds = np.log(preds)\n",
    "    exp_preds = np.exp(preds)\n",
    "    preds = exp_preds / np.sum(exp_preds)\n",
    "\n",
    "    return heapq.nlargest(top_n, range(len(preds)), preds.take)\n",
    "     "
   ]
  },
  {
   "cell_type": "code",
   "execution_count": 20,
   "metadata": {},
   "outputs": [],
   "source": [
    "def predict_completion(text):\n",
    "    original_text = text\n",
    "    generated = text\n",
    "    completion = ''\n",
    "    while True:\n",
    "        x = prepare_input(text)\n",
    "        preds = model.predict(x, verbose=0)[0]\n",
    "        next_index = sample(preds, top_n=1)[0]\n",
    "        next_word = id2word[next_index]\n",
    "        text = text[1:] + next_word\n",
    "        completion += next_word\n",
    "        \n",
    "        if len(original_text + completion) + 2 > len(original_text) and next_word == ' ':\n",
    "            return completion\n",
    "     "
   ]
  },
  {
   "cell_type": "code",
   "execution_count": 21,
   "metadata": {},
   "outputs": [],
   "source": [
    "def predict_next_word(text, n=3):\n",
    "    x = prepare_input(text)\n",
    "    preds = model.predict(x, verbose=0)[0]\n",
    "    next_indices = sample(preds, n)\n",
    "    return [id2word[idx] for idx in next_indices]\n",
    "     "
   ]
  },
  {
   "cell_type": "markdown",
   "metadata": {},
   "source": [
    "### Starting sentence: \"I look forward to working\" "
   ]
  },
  {
   "cell_type": "code",
   "execution_count": 36,
   "metadata": {},
   "outputs": [
    {
     "name": "stdout",
     "output_type": "stream",
     "text": [
      "['with', 'on', 'about', 'I', 'Yes']\n"
     ]
    },
    {
     "data": {
      "text/plain": [
       "'I look forward to working with'"
      ]
     },
     "execution_count": 36,
     "metadata": {},
     "output_type": "execute_result"
    }
   ],
   "source": [
    "# Model only accept input with 5 words\n",
    "input=\"I look forward to working\"\n",
    "print(predict_next_word(input, 5))\n",
    "'I look forward to working with'"
   ]
  },
  {
   "cell_type": "code",
   "execution_count": 34,
   "metadata": {},
   "outputs": [
    {
     "name": "stdout",
     "output_type": "stream",
     "text": [
      "['you', 'now', 'the', 'I', 'this']\n"
     ]
    },
    {
     "data": {
      "text/plain": [
       "'I look forward to working with you'"
      ]
     },
     "execution_count": 34,
     "metadata": {},
     "output_type": "execute_result"
    }
   ],
   "source": [
    "input=\"look forward to working with\"\n",
    "print(predict_next_word(input, 5))\n",
    "'I look forward to working with you'"
   ]
  },
  {
   "cell_type": "code",
   "execution_count": 37,
   "metadata": {},
   "outputs": [
    {
     "name": "stdout",
     "output_type": "stream",
     "text": [
      "['I', 'Yes', 'and', 'for', 'at']\n"
     ]
    }
   ],
   "source": [
    "input=\"forward to working with you, \"\n",
    "print(predict_next_word(input, 5))"
   ]
  },
  {
   "cell_type": "code",
   "execution_count": 40,
   "metadata": {},
   "outputs": [
    {
     "name": "stdout",
     "output_type": "stream",
     "text": [
      "['m', 'll', 'am', 'see', 'will']\n"
     ]
    }
   ],
   "source": [
    "input=\"to working with you, I\"\n",
    "print(predict_next_word(input, 5))"
   ]
  },
  {
   "cell_type": "code",
   "execution_count": 41,
   "metadata": {},
   "outputs": [
    {
     "name": "stdout",
     "output_type": "stream",
     "text": [
      "['thinking', 'not', 'very', 'sure', 'working']\n"
     ]
    }
   ],
   "source": [
    "input=\"working with you, I'm\"\n",
    "print(predict_next_word(input, 5))"
   ]
  },
  {
   "cell_type": "code",
   "execution_count": 44,
   "metadata": {},
   "outputs": [
    {
     "name": "stdout",
     "output_type": "stream",
     "text": [
      "['of', 'I', 'about', 'it', 'on']\n"
     ]
    }
   ],
   "source": [
    "input=\"with you, I'm thinking\"\n",
    "print(predict_next_word(input, 5))"
   ]
  },
  {
   "cell_type": "code",
   "execution_count": 45,
   "metadata": {},
   "outputs": [
    {
     "name": "stdout",
     "output_type": "stream",
     "text": [
      "['the', 'that', 'it', 'one', 'a']\n"
     ]
    }
   ],
   "source": [
    "input=\"you, I'm thinking of\"\n",
    "print(predict_next_word(input, 5))"
   ]
  },
  {
   "cell_type": "code",
   "execution_count": 47,
   "metadata": {},
   "outputs": [
    {
     "name": "stdout",
     "output_type": "stream",
     "text": [
      "['company', 'office', 'new', 'sales', 'meeting']\n"
     ]
    }
   ],
   "source": [
    "input=\"I'm thinking of the\"\n",
    "print(predict_next_word(input, 5))"
   ]
  },
  {
   "cell_type": "markdown",
   "metadata": {},
   "source": [
    "Final sentence: I look forward to working with you, I'm thinking of the company."
   ]
  }
 ],
 "metadata": {
  "kernelspec": {
   "display_name": "Python 3 (ipykernel)",
   "language": "python",
   "name": "python3"
  },
  "language_info": {
   "codemirror_mode": {
    "name": "ipython",
    "version": 3
   },
   "file_extension": ".py",
   "mimetype": "text/x-python",
   "name": "python",
   "nbconvert_exporter": "python",
   "pygments_lexer": "ipython3",
   "version": "3.11.4"
  }
 },
 "nbformat": 4,
 "nbformat_minor": 4
}
